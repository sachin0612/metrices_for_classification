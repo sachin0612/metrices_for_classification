{
 "cells": [
  {
   "cell_type": "markdown",
   "id": "52a7ce78",
   "metadata": {},
   "source": [
    "# Using train_test_split and random state=42"
   ]
  },
  {
   "cell_type": "code",
   "execution_count": 9,
   "id": "08a373f5",
   "metadata": {},
   "outputs": [
    {
     "name": "stdout",
     "output_type": "stream",
     "text": [
      "Average MSE: 24.29111947497371\n"
     ]
    }
   ],
   "source": [
    "import numpy as np\n",
    "from sklearn.linear_model import LinearRegression\n",
    "from sklearn.model_selection import train_test_split\n",
    "from sklearn.metrics import mean_squared_error\n",
    "# Load the Boston Housing dataset\n",
    "df = pd.read_csv('https://raw.githubusercontent.com/selva86/datasets/master/BostonHousing.csv')\n",
    "X = df.iloc[:,0:-1]\n",
    "y = df.iloc[:,-1]\n",
    "\n",
    "# Create a linear regression model\n",
    "model = LinearRegression()\n",
    "x_train,x_test,y_train,y_test=train_test_split(X,y,test_size=0.2,random_state=42)\n",
    "model.fit(x_train,y_train)\n",
    "y_preds=model.predict(x_test)\n",
    "print(\"Average MSE:\", mean_squared_error(y_test,y_preds))"
   ]
  },
  {
   "cell_type": "markdown",
   "id": "fb789f72",
   "metadata": {},
   "source": [
    "# Using train_test_split and random state=2"
   ]
  },
  {
   "cell_type": "code",
   "execution_count": 13,
   "id": "e379dea8",
   "metadata": {},
   "outputs": [
    {
     "name": "stdout",
     "output_type": "stream",
     "text": [
      "Average MSE: 18.49542012244836\n"
     ]
    }
   ],
   "source": [
    "import numpy as np\n",
    "from sklearn.linear_model import LinearRegression\n",
    "from sklearn.model_selection import train_test_split\n",
    "from sklearn.metrics import mean_squared_error\n",
    "# Load the Boston Housing dataset\n",
    "df = pd.read_csv('https://raw.githubusercontent.com/selva86/datasets/master/BostonHousing.csv')\n",
    "X = df.iloc[:,0:-1]\n",
    "y = df.iloc[:,-1]\n",
    "\n",
    "# Create a linear regression model\n",
    "model = LinearRegression()\n",
    "x_train,x_test,y_train,y_test=train_test_split(X,y,test_size=0.2,random_state=2)\n",
    "model.fit(x_train,y_train)\n",
    "y_preds=model.predict(x_test)\n",
    "print(\"Average MSE:\", mean_squared_error(y_test,y_preds))"
   ]
  },
  {
   "cell_type": "markdown",
   "id": "3c594cc6",
   "metadata": {},
   "source": [
    "# Leave one-out cross validation"
   ]
  },
  {
   "cell_type": "code",
   "execution_count": 2,
   "id": "a873277a",
   "metadata": {},
   "outputs": [
    {
     "name": "stdout",
     "output_type": "stream",
     "text": [
      "Mean MSE: 23.72574551947614\n"
     ]
    }
   ],
   "source": [
    "import pandas as pd\n",
    "import numpy as np\n",
    "from sklearn.linear_model import LinearRegression\n",
    "from sklearn.model_selection import LeaveOneOut, cross_val_score\n",
    "\n",
    "# Load the Boston Housing dataset\n",
    "df = pd.read_csv('https://raw.githubusercontent.com/selva86/datasets/master/BostonHousing.csv')\n",
    "X = df.iloc[:,0:-1]\n",
    "y = df.iloc[:,-1]\n",
    "\n",
    "# Create a linear regression model\n",
    "model = LinearRegression()\n",
    "\n",
    "# Create a LeaveOneOut cross-validator\n",
    "loo = LeaveOneOut()\n",
    "\n",
    "# Use cross_val_score for the dataset with the model and LOOCV\n",
    "# This will return the scores for each iteration of LOOCV\n",
    "scores = cross_val_score(model, X, y, cv=loo, scoring='neg_mean_squared_error')\n",
    "\n",
    "mse_scores = -scores  # Invert the sign of the scores\n",
    "\n",
    "# Print the mean MSE over all LOOCV iterations\n",
    "print(\"Mean MSE:\", mse_scores.mean())"
   ]
  },
  {
   "cell_type": "markdown",
   "id": "cad7b1c2",
   "metadata": {},
   "source": [
    "# Implementing K-fold cross validation"
   ]
  },
  {
   "cell_type": "code",
   "execution_count": 11,
   "id": "6024474f",
   "metadata": {},
   "outputs": [
    {
     "name": "stdout",
     "output_type": "stream",
     "text": [
      "R2 scores for each fold: [0.75981355 0.60908125 0.76975858 0.71639463 0.61663293 0.79789535\n",
      " 0.76682601 0.79453027 0.74066667 0.59908146]\n",
      "Mean R2 score across all folds: 0.717068071487146\n"
     ]
    }
   ],
   "source": [
    "from sklearn.model_selection import cross_val_score\n",
    "from sklearn.linear_model import LinearRegression\n",
    "from sklearn.model_selection import KFold\n",
    "import pandas as pd\n",
    "\n",
    "# Load the Boston Housing dataset\n",
    "df = pd.read_csv('https://raw.githubusercontent.com/selva86/datasets/master/BostonHousing.csv')\n",
    "X = df.iloc[:,0:-1]\n",
    "y = df.iloc[:,-1]\n",
    "\n",
    "# Initialize a Linear Regression model\n",
    "model = LinearRegression()\n",
    "\n",
    "# Initialize the KFold parameters\n",
    "kfold = KFold(n_splits=10, shuffle=True, random_state=42)\n",
    "\n",
    "# Use cross_val_score on the model and dataset\n",
    "scores = cross_val_score(model, X, y, cv=kfold, scoring='r2')\n",
    "\n",
    "print(\"R2 scores for each fold:\", scores)\n",
    "print(\"Mean R2 score across all folds:\", scores.mean())\n"
   ]
  },
  {
   "cell_type": "markdown",
   "id": "8295d87f",
   "metadata": {},
   "source": [
    "# Implementing Stratified K-fold cross validation"
   ]
  },
  {
   "cell_type": "code",
   "execution_count": 12,
   "id": "3148e596",
   "metadata": {},
   "outputs": [
    {
     "name": "stdout",
     "output_type": "stream",
     "text": [
      "Accuracies for each fold:  [1.         0.96666667 0.93333333 1.         0.93333333]\n",
      "Mean accuracy across all folds:  0.9666666666666668\n"
     ]
    }
   ],
   "source": [
    "from sklearn.datasets import load_iris\n",
    "from sklearn.model_selection import StratifiedKFold, cross_val_score\n",
    "from sklearn.linear_model import LogisticRegression\n",
    "\n",
    "# Load iris dataset\n",
    "data = load_iris()\n",
    "X, y = data.data, data.target\n",
    "\n",
    "# Create a Logistic Regression model\n",
    "model = LogisticRegression(max_iter=10000, random_state=42)\n",
    "\n",
    "# Create StratifiedKFold object\n",
    "skf = StratifiedKFold(n_splits=5, random_state=42, shuffle=True)\n",
    "\n",
    "# Perform stratified cross validation\n",
    "scores = cross_val_score(model, X, y, cv=skf, scoring='accuracy')\n",
    "\n",
    "# Print the accuracy for each fold\n",
    "print(\"Accuracies for each fold: \", scores)\n",
    "print(\"Mean accuracy across all folds: \", scores.mean())\n"
   ]
  },
  {
   "cell_type": "code",
   "execution_count": null,
   "id": "8c9cd334",
   "metadata": {},
   "outputs": [],
   "source": []
  }
 ],
 "metadata": {
  "kernelspec": {
   "display_name": "Python 3 (ipykernel)",
   "language": "python",
   "name": "python3"
  },
  "language_info": {
   "codemirror_mode": {
    "name": "ipython",
    "version": 3
   },
   "file_extension": ".py",
   "mimetype": "text/x-python",
   "name": "python",
   "nbconvert_exporter": "python",
   "pygments_lexer": "ipython3",
   "version": "3.9.13"
  }
 },
 "nbformat": 4,
 "nbformat_minor": 5
}
